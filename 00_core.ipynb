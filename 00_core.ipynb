{
 "cells": [
  {
   "cell_type": "code",
   "execution_count": null,
   "metadata": {},
   "outputs": [],
   "source": [
    "# default_exp core"
   ]
  },
  {
   "cell_type": "markdown",
   "metadata": {},
   "source": [
    "# deltaframe\n",
    "\n",
    "> Builds the delta between two or more pandas dataframes"
   ]
  },
  {
   "cell_type": "code",
   "execution_count": null,
   "metadata": {},
   "outputs": [],
   "source": [
    "#hide\n",
    "from nbdev.showdoc import *"
   ]
  },
  {
   "cell_type": "code",
   "execution_count": null,
   "metadata": {},
   "outputs": [],
   "source": [
    "#export\n",
    "import pandas as pd\n",
    "import numpy as np"
   ]
  },
  {
   "cell_type": "code",
   "execution_count": null,
   "metadata": {},
   "outputs": [],
   "source": [
    "#export\n",
    "def get_added_entries(df_old, df_new, unique_id, trans_col=\"transaction\", trans_vaL=\"added\"):\n",
    "    \"\"\"get entries in df2 which are not in df1\"\"\"\n",
    "    cols = list(df_old.columns)\n",
    "    new_entries = (pd\n",
    "                .merge(df_old, df_new, how=\"outer\", on=unique_id, indicator=True, suffixes=(\"_foo\",\"\"))\n",
    "                .query('_merge == \"right_only\"')\n",
    "                )\n",
    "    new_entries = new_entries[cols] \n",
    "    new_entries[trans_col] = trans_vaL\n",
    "    return new_entries"
   ]
  },
  {
   "cell_type": "code",
   "execution_count": null,
   "metadata": {},
   "outputs": [],
   "source": [
    "df1=pd.DataFrame({\n",
    "    'date':['2013-11-24','2013-11-24','2013-11-24','2013-11-24'],\n",
    "    'id':['001','002','003','004'],\n",
    "    'quantity':[22,8,7,10],\n",
    "    'color':['Yellow','Orange','Red','Yellow'],\n",
    "})\n",
    "df2=pd.DataFrame({\n",
    "    'date':['2013-11-24','2013-11-25','2013-11-24','2013-11-24'],\n",
    "    'id':['001','002', '004', '005'],\n",
    "    'quantity':[22,6,5,10],\n",
    "    'color':['Yellow','Orange','Red','Pink'],\n",
    "})"
   ]
  },
  {
   "cell_type": "code",
   "execution_count": null,
   "metadata": {},
   "outputs": [
    {
     "data": {
      "text/html": "<div>\n<style scoped>\n    .dataframe tbody tr th:only-of-type {\n        vertical-align: middle;\n    }\n\n    .dataframe tbody tr th {\n        vertical-align: top;\n    }\n\n    .dataframe thead th {\n        text-align: right;\n    }\n</style>\n<table border=\"1\" class=\"dataframe\">\n  <thead>\n    <tr style=\"text-align: right;\">\n      <th></th>\n      <th>date</th>\n      <th>id</th>\n      <th>quantity</th>\n      <th>color</th>\n    </tr>\n  </thead>\n  <tbody>\n    <tr>\n      <th>0</th>\n      <td>2013-11-24</td>\n      <td>001</td>\n      <td>22</td>\n      <td>Yellow</td>\n    </tr>\n    <tr>\n      <th>1</th>\n      <td>2013-11-24</td>\n      <td>002</td>\n      <td>8</td>\n      <td>Orange</td>\n    </tr>\n    <tr>\n      <th>2</th>\n      <td>2013-11-24</td>\n      <td>003</td>\n      <td>7</td>\n      <td>Red</td>\n    </tr>\n    <tr>\n      <th>3</th>\n      <td>2013-11-24</td>\n      <td>004</td>\n      <td>10</td>\n      <td>Yellow</td>\n    </tr>\n  </tbody>\n</table>\n</div>",
      "text/plain": [
       "         date   id  quantity   color\n",
       "0  2013-11-24  001        22  Yellow\n",
       "1  2013-11-24  002         8  Orange\n",
       "2  2013-11-24  003         7     Red\n",
       "3  2013-11-24  004        10  Yellow"
      ]
     },
     "execution_count": null,
     "metadata": {},
     "output_type": "execute_result"
    }
   ],
   "source": [
    "df1"
   ]
  },
  {
   "cell_type": "code",
   "execution_count": null,
   "metadata": {},
   "outputs": [
    {
     "data": {
      "text/html": "<div>\n<style scoped>\n    .dataframe tbody tr th:only-of-type {\n        vertical-align: middle;\n    }\n\n    .dataframe tbody tr th {\n        vertical-align: top;\n    }\n\n    .dataframe thead th {\n        text-align: right;\n    }\n</style>\n<table border=\"1\" class=\"dataframe\">\n  <thead>\n    <tr style=\"text-align: right;\">\n      <th></th>\n      <th>date</th>\n      <th>id</th>\n      <th>quantity</th>\n      <th>color</th>\n    </tr>\n  </thead>\n  <tbody>\n    <tr>\n      <th>0</th>\n      <td>2013-11-24</td>\n      <td>001</td>\n      <td>22</td>\n      <td>Yellow</td>\n    </tr>\n    <tr>\n      <th>1</th>\n      <td>2013-11-25</td>\n      <td>002</td>\n      <td>6</td>\n      <td>Orange</td>\n    </tr>\n    <tr>\n      <th>2</th>\n      <td>2013-11-24</td>\n      <td>004</td>\n      <td>5</td>\n      <td>Red</td>\n    </tr>\n    <tr>\n      <th>3</th>\n      <td>2013-11-24</td>\n      <td>005</td>\n      <td>10</td>\n      <td>Pink</td>\n    </tr>\n  </tbody>\n</table>\n</div>",
      "text/plain": [
       "         date   id  quantity   color\n",
       "0  2013-11-24  001        22  Yellow\n",
       "1  2013-11-25  002         6  Orange\n",
       "2  2013-11-24  004         5     Red\n",
       "3  2013-11-24  005        10    Pink"
      ]
     },
     "execution_count": null,
     "metadata": {},
     "output_type": "execute_result"
    }
   ],
   "source": [
    "df2"
   ]
  },
  {
   "cell_type": "code",
   "execution_count": null,
   "metadata": {},
   "outputs": [
    {
     "data": {
      "text/html": "<div>\n<style scoped>\n    .dataframe tbody tr th:only-of-type {\n        vertical-align: middle;\n    }\n\n    .dataframe tbody tr th {\n        vertical-align: top;\n    }\n\n    .dataframe thead th {\n        text-align: right;\n    }\n</style>\n<table border=\"1\" class=\"dataframe\">\n  <thead>\n    <tr style=\"text-align: right;\">\n      <th></th>\n      <th>date</th>\n      <th>id</th>\n      <th>quantity</th>\n      <th>color</th>\n      <th>transaction</th>\n    </tr>\n  </thead>\n  <tbody>\n    <tr>\n      <th>4</th>\n      <td>2013-11-24</td>\n      <td>005</td>\n      <td>10.0</td>\n      <td>Pink</td>\n      <td>added</td>\n    </tr>\n  </tbody>\n</table>\n</div>",
      "text/plain": [
       "         date   id  quantity color transaction\n",
       "4  2013-11-24  005      10.0  Pink       added"
      ]
     },
     "execution_count": null,
     "metadata": {},
     "output_type": "execute_result"
    }
   ],
   "source": [
    "added_entries = get_added_entries(df_old=df1, df_new=df2, unique_id=\"id\")\n",
    "added_entries"
   ]
  },
  {
   "cell_type": "code",
   "execution_count": null,
   "metadata": {},
   "outputs": [],
   "source": [
    "#export\n",
    "def get_removed_entries(df_old, df_new, unique_id, trans_col=\"transaction\", trans_val=\"removed\"):\n",
    "    \"\"\"Returns the removed entries that are not any longer in df_new\"\"\"\n",
    "    cols = list(df_old.columns)\n",
    "    removed_entries = (pd\n",
    "                .merge(df_new, df_old, how=\"outer\", on=unique_id, indicator=True, suffixes=(\"_foo\",\"\"))\n",
    "                .query('_merge == \"right_only\"')\n",
    "                )\n",
    "    removed_entries = removed_entries[cols]\n",
    "    removed_entries[trans_col] = trans_val\n",
    "    return removed_entries"
   ]
  },
  {
   "cell_type": "code",
   "execution_count": null,
   "metadata": {},
   "outputs": [
    {
     "data": {
      "text/html": "<div>\n<style scoped>\n    .dataframe tbody tr th:only-of-type {\n        vertical-align: middle;\n    }\n\n    .dataframe tbody tr th {\n        vertical-align: top;\n    }\n\n    .dataframe thead th {\n        text-align: right;\n    }\n</style>\n<table border=\"1\" class=\"dataframe\">\n  <thead>\n    <tr style=\"text-align: right;\">\n      <th></th>\n      <th>date</th>\n      <th>id</th>\n      <th>quantity</th>\n      <th>color</th>\n      <th>transaction</th>\n    </tr>\n  </thead>\n  <tbody>\n    <tr>\n      <th>4</th>\n      <td>2013-11-24</td>\n      <td>003</td>\n      <td>7.0</td>\n      <td>Red</td>\n      <td>removed</td>\n    </tr>\n  </tbody>\n</table>\n</div>",
      "text/plain": [
       "         date   id  quantity color transaction\n",
       "4  2013-11-24  003       7.0   Red     removed"
      ]
     },
     "execution_count": null,
     "metadata": {},
     "output_type": "execute_result"
    }
   ],
   "source": [
    "removed_entries = get_removed_entries(df_old=df1, df_new=df2, unique_id=\"id\")\n",
    "removed_entries"
   ]
  },
  {
   "cell_type": "code",
   "execution_count": null,
   "metadata": {},
   "outputs": [],
   "source": [
    "#export \n",
    "def get_modified_entries(df_old, df_new, unique_id, added_entries=None, trans_col=\"transaction\", trans_val=\"modified\"):\n",
    "    \"\"\"Returns the modified entries\"\"\"\n",
    "    cols = list(df_new.columns)\n",
    "    if added_entries is not None: \n",
    "        df_new = df_new[~df_new.isin(list(added_entries[unique_id].values))].dropna()\n",
    "    modified_entries = df_old.merge(df_new, indicator=True, how='outer')\n",
    "    modified_entries = modified_entries[modified_entries['_merge'] == 'right_only']\n",
    "    modified_entries = modified_entries[cols]\n",
    "    modified_entries[trans_col] = trans_val\n",
    "    return modified_entries"
   ]
  },
  {
   "cell_type": "code",
   "execution_count": null,
   "metadata": {},
   "outputs": [
    {
     "data": {
      "text/html": "<div>\n<style scoped>\n    .dataframe tbody tr th:only-of-type {\n        vertical-align: middle;\n    }\n\n    .dataframe tbody tr th {\n        vertical-align: top;\n    }\n\n    .dataframe thead th {\n        text-align: right;\n    }\n</style>\n<table border=\"1\" class=\"dataframe\">\n  <thead>\n    <tr style=\"text-align: right;\">\n      <th></th>\n      <th>date</th>\n      <th>id</th>\n      <th>quantity</th>\n      <th>color</th>\n      <th>transaction</th>\n    </tr>\n  </thead>\n  <tbody>\n    <tr>\n      <th>4</th>\n      <td>2013-11-25</td>\n      <td>002</td>\n      <td>6</td>\n      <td>Orange</td>\n      <td>modified</td>\n    </tr>\n    <tr>\n      <th>5</th>\n      <td>2013-11-24</td>\n      <td>004</td>\n      <td>5</td>\n      <td>Red</td>\n      <td>modified</td>\n    </tr>\n    <tr>\n      <th>6</th>\n      <td>2013-11-24</td>\n      <td>005</td>\n      <td>10</td>\n      <td>Pink</td>\n      <td>modified</td>\n    </tr>\n  </tbody>\n</table>\n</div>",
      "text/plain": [
       "         date   id  quantity   color transaction\n",
       "4  2013-11-25  002         6  Orange    modified\n",
       "5  2013-11-24  004         5     Red    modified\n",
       "6  2013-11-24  005        10    Pink    modified"
      ]
     },
     "execution_count": null,
     "metadata": {},
     "output_type": "execute_result"
    }
   ],
   "source": [
    "modified_entries = get_modified_entries(df_old=df1, df_new=df2, unique_id=\"id\")\n",
    "modified_entriess"
   ]
  },
  {
   "cell_type": "code",
   "execution_count": null,
   "metadata": {},
   "outputs": [
    {
     "data": {
      "text/html": "<div>\n<style scoped>\n    .dataframe tbody tr th:only-of-type {\n        vertical-align: middle;\n    }\n\n    .dataframe tbody tr th {\n        vertical-align: top;\n    }\n\n    .dataframe thead th {\n        text-align: right;\n    }\n</style>\n<table border=\"1\" class=\"dataframe\">\n  <thead>\n    <tr style=\"text-align: right;\">\n      <th></th>\n      <th>date</th>\n      <th>id</th>\n      <th>quantity</th>\n      <th>color</th>\n      <th>transaction</th>\n    </tr>\n  </thead>\n  <tbody>\n    <tr>\n      <th>4</th>\n      <td>2013-11-25</td>\n      <td>002</td>\n      <td>6</td>\n      <td>Orange</td>\n      <td>modified</td>\n    </tr>\n    <tr>\n      <th>5</th>\n      <td>2013-11-24</td>\n      <td>004</td>\n      <td>5</td>\n      <td>Red</td>\n      <td>modified</td>\n    </tr>\n  </tbody>\n</table>\n</div>",
      "text/plain": [
       "         date   id  quantity   color transaction\n",
       "4  2013-11-25  002         6  Orange    modified\n",
       "5  2013-11-24  004         5     Red    modified"
      ]
     },
     "execution_count": null,
     "metadata": {},
     "output_type": "execute_result"
    }
   ],
   "source": [
    "modified_entries = get_modified_entries(df_old=df1, df_new=df2, unique_id=\"id\", added_entries=added_entries)\n",
    "modified_entries"
   ]
  },
  {
   "cell_type": "code",
   "execution_count": null,
   "metadata": {},
   "outputs": [],
   "source": [
    "#export \n",
    "def logging(df_log, df_old, df_new, unique_id, trans_col=\"transaction\", trans_val_added=\"added\", trans_val_removed=\"removed\", trans_val_modified=\"modified\", sort_by=None):\n",
    "    if df_log is None:\n",
    "        df_log = df_old.copy()\n",
    "        df_log[trans_col] = trans_val_added\n",
    "    else:\n",
    "        subset = list(df_log.columns)\n",
    "        subset.remove(trans_col)\n",
    "        added_entries = get_added_entries(df_old=df_old, df_new=df_new, unique_id=unique_id, trans_col=trans_col, trans_vaL=trans_val_added)\n",
    "        removed_entries = get_removed_entries(df_old=df_old, df_new=df_new, unique_id=unique_id, trans_col=trans_col, trans_val=trans_val_removed)\n",
    "        modified_entries = get_modified_entries(df_new=df_new, df_old=df_old, unique_id=unique_id, added_entries=added_entries, trans_col=trans_col, trans_val=trans_val_modified)\n",
    "        df_log = df_log.append(modified_entries, ignore_index=True)\n",
    "        df_log = df_log.drop_duplicates(subset=subset, keep=\"first\")\n",
    "        df_log = df_log.append(added_entries, ignore_index=True)\n",
    "        df_log = df_log.append(removed_entries, ignore_index=True)  \n",
    "    if sort_by:\n",
    "        df_log = df_log.sort_values(by=sort_by)\n",
    "    return df_log "
   ]
  },
  {
   "cell_type": "code",
   "execution_count": null,
   "metadata": {},
   "outputs": [
    {
     "data": {
      "text/html": "<div>\n<style scoped>\n    .dataframe tbody tr th:only-of-type {\n        vertical-align: middle;\n    }\n\n    .dataframe tbody tr th {\n        vertical-align: top;\n    }\n\n    .dataframe thead th {\n        text-align: right;\n    }\n</style>\n<table border=\"1\" class=\"dataframe\">\n  <thead>\n    <tr style=\"text-align: right;\">\n      <th></th>\n      <th>date</th>\n      <th>id</th>\n      <th>quantity</th>\n      <th>color</th>\n      <th>transaction</th>\n    </tr>\n  </thead>\n  <tbody>\n    <tr>\n      <th>0</th>\n      <td>2013-11-24</td>\n      <td>001</td>\n      <td>22</td>\n      <td>Yellow</td>\n      <td>added</td>\n    </tr>\n    <tr>\n      <th>1</th>\n      <td>2013-11-24</td>\n      <td>002</td>\n      <td>8</td>\n      <td>Orange</td>\n      <td>added</td>\n    </tr>\n    <tr>\n      <th>2</th>\n      <td>2013-11-24</td>\n      <td>003</td>\n      <td>7</td>\n      <td>Red</td>\n      <td>added</td>\n    </tr>\n    <tr>\n      <th>3</th>\n      <td>2013-11-24</td>\n      <td>004</td>\n      <td>10</td>\n      <td>Yellow</td>\n      <td>added</td>\n    </tr>\n  </tbody>\n</table>\n</div>",
      "text/plain": [
       "         date   id  quantity   color transaction\n",
       "0  2013-11-24  001        22  Yellow       added\n",
       "1  2013-11-24  002         8  Orange       added\n",
       "2  2013-11-24  003         7     Red       added\n",
       "3  2013-11-24  004        10  Yellow       added"
      ]
     },
     "execution_count": null,
     "metadata": {},
     "output_type": "execute_result"
    }
   ],
   "source": [
    "df_log = logging(df_log=None, df_old=df1, df_new=df2, unique_id=\"id\")\n",
    "df_log"
   ]
  },
  {
   "cell_type": "code",
   "execution_count": null,
   "metadata": {},
   "outputs": [
    {
     "data": {
      "text/html": "<div>\n<style scoped>\n    .dataframe tbody tr th:only-of-type {\n        vertical-align: middle;\n    }\n\n    .dataframe tbody tr th {\n        vertical-align: top;\n    }\n\n    .dataframe thead th {\n        text-align: right;\n    }\n</style>\n<table border=\"1\" class=\"dataframe\">\n  <thead>\n    <tr style=\"text-align: right;\">\n      <th></th>\n      <th>date</th>\n      <th>id</th>\n      <th>quantity</th>\n      <th>color</th>\n      <th>transaction</th>\n    </tr>\n  </thead>\n  <tbody>\n    <tr>\n      <th>0</th>\n      <td>2013-11-24</td>\n      <td>001</td>\n      <td>22.0</td>\n      <td>Yellow</td>\n      <td>added</td>\n    </tr>\n    <tr>\n      <th>1</th>\n      <td>2013-11-24</td>\n      <td>002</td>\n      <td>8.0</td>\n      <td>Orange</td>\n      <td>added</td>\n    </tr>\n    <tr>\n      <th>2</th>\n      <td>2013-11-24</td>\n      <td>003</td>\n      <td>7.0</td>\n      <td>Red</td>\n      <td>added</td>\n    </tr>\n    <tr>\n      <th>3</th>\n      <td>2013-11-24</td>\n      <td>004</td>\n      <td>10.0</td>\n      <td>Yellow</td>\n      <td>added</td>\n    </tr>\n    <tr>\n      <th>4</th>\n      <td>2013-11-25</td>\n      <td>002</td>\n      <td>6.0</td>\n      <td>Orange</td>\n      <td>modified</td>\n    </tr>\n    <tr>\n      <th>5</th>\n      <td>2013-11-24</td>\n      <td>004</td>\n      <td>5.0</td>\n      <td>Red</td>\n      <td>modified</td>\n    </tr>\n    <tr>\n      <th>6</th>\n      <td>2013-11-24</td>\n      <td>005</td>\n      <td>10.0</td>\n      <td>Pink</td>\n      <td>added</td>\n    </tr>\n    <tr>\n      <th>7</th>\n      <td>2013-11-24</td>\n      <td>003</td>\n      <td>7.0</td>\n      <td>Red</td>\n      <td>removed</td>\n    </tr>\n  </tbody>\n</table>\n</div>",
      "text/plain": [
       "         date   id  quantity   color transaction\n",
       "0  2013-11-24  001      22.0  Yellow       added\n",
       "1  2013-11-24  002       8.0  Orange       added\n",
       "2  2013-11-24  003       7.0     Red       added\n",
       "3  2013-11-24  004      10.0  Yellow       added\n",
       "4  2013-11-25  002       6.0  Orange    modified\n",
       "5  2013-11-24  004       5.0     Red    modified\n",
       "6  2013-11-24  005      10.0    Pink       added\n",
       "7  2013-11-24  003       7.0     Red     removed"
      ]
     },
     "execution_count": null,
     "metadata": {},
     "output_type": "execute_result"
    }
   ],
   "source": [
    "df_log = logging(df_log=df_log, df_old=df1, df_new=df2, unique_id=\"id\")\n",
    "df_log"
   ]
  },
  {
   "cell_type": "code",
   "execution_count": null,
   "metadata": {},
   "outputs": [
    {
     "data": {
      "text/html": "<div>\n<style scoped>\n    .dataframe tbody tr th:only-of-type {\n        vertical-align: middle;\n    }\n\n    .dataframe tbody tr th {\n        vertical-align: top;\n    }\n\n    .dataframe thead th {\n        text-align: right;\n    }\n</style>\n<table border=\"1\" class=\"dataframe\">\n  <thead>\n    <tr style=\"text-align: right;\">\n      <th></th>\n      <th>Date</th>\n      <th>Fruit</th>\n      <th>Num</th>\n      <th>Color</th>\n      <th>transaction</th>\n    </tr>\n  </thead>\n  <tbody>\n    <tr>\n      <th>0</th>\n      <td>2013-11-24</td>\n      <td>Banana</td>\n      <td>22.1</td>\n      <td>Yellow</td>\n      <td>added</td>\n    </tr>\n    <tr>\n      <th>1</th>\n      <td>2013-11-24</td>\n      <td>Orange</td>\n      <td>8.6</td>\n      <td>Orange</td>\n      <td>added</td>\n    </tr>\n    <tr>\n      <th>2</th>\n      <td>2013-11-24</td>\n      <td>Apple</td>\n      <td>7.6</td>\n      <td>Green</td>\n      <td>added</td>\n    </tr>\n    <tr>\n      <th>3</th>\n      <td>2013-11-24</td>\n      <td>Celery</td>\n      <td>10.2</td>\n      <td>Green</td>\n      <td>added</td>\n    </tr>\n    <tr>\n      <th>8</th>\n      <td>2013-11-24</td>\n      <td>Banana</td>\n      <td>22.1</td>\n      <td>Yellow</td>\n      <td>removed</td>\n    </tr>\n    <tr>\n      <th>4</th>\n      <td>2013-11-25</td>\n      <td>Apple</td>\n      <td>22.1</td>\n      <td>Red</td>\n      <td>modified</td>\n    </tr>\n    <tr>\n      <th>5</th>\n      <td>2013-11-25</td>\n      <td>Orange</td>\n      <td>8.6</td>\n      <td>Orange</td>\n      <td>modified</td>\n    </tr>\n    <tr>\n      <th>6</th>\n      <td>2014-11-03</td>\n      <td>Strawberry</td>\n      <td>4.2</td>\n      <td>Red</td>\n      <td>added</td>\n    </tr>\n    <tr>\n      <th>7</th>\n      <td>2014-11-03</td>\n      <td>Strawberry</td>\n      <td>4.2</td>\n      <td>Red</td>\n      <td>added</td>\n    </tr>\n  </tbody>\n</table>\n</div>",
      "text/plain": [
       "         Date       Fruit   Num   Color transaction\n",
       "0  2013-11-24      Banana  22.1  Yellow       added\n",
       "1  2013-11-24      Orange   8.6  Orange       added\n",
       "2  2013-11-24       Apple   7.6   Green       added\n",
       "3  2013-11-24      Celery  10.2   Green       added\n",
       "8  2013-11-24      Banana  22.1  Yellow     removed\n",
       "4  2013-11-25       Apple  22.1     Red    modified\n",
       "5  2013-11-25      Orange   8.6  Orange    modified\n",
       "6  2014-11-03  Strawberry   4.2     Red       added\n",
       "7  2014-11-03  Strawberry   4.2     Red       added"
      ]
     },
     "execution_count": null,
     "metadata": {},
     "output_type": "execute_result"
    }
   ],
   "source": [
    "df_log = logging(df_log=df_log, df_old=df1, df_new=df2, unique_id=\"Fruit\", sort_by=[\"Date\"])\n",
    "df_log"
   ]
  },
  {
   "cell_type": "code",
   "execution_count": null,
   "metadata": {},
   "outputs": [],
   "source": []
  }
 ],
 "metadata": {
  "kernelspec": {
   "display_name": "Python 3",
   "language": "python",
   "name": "python3"
  }
 },
 "nbformat": 4,
 "nbformat_minor": 2
}
