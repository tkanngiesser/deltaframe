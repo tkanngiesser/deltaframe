{
 "cells": [
  {
   "cell_type": "code",
   "execution_count": null,
   "metadata": {},
   "outputs": [],
   "source": [
    "#hide\n",
    "from deltaframe.core import *\n",
    "import pandas as pd"
   ]
  },
  {
   "cell_type": "markdown",
   "metadata": {},
   "source": [
    "# Deltaframe\n",
    "\n",
    "> Delta between two or more Pandas dataframes."
   ]
  },
  {
   "cell_type": "markdown",
   "metadata": {},
   "source": [
    "This file will become your README and also the index of your documentation."
   ]
  },
  {
   "cell_type": "markdown",
   "metadata": {},
   "source": [
    "## Install"
   ]
  },
  {
   "cell_type": "markdown",
   "metadata": {},
   "source": [
    "`pip install deltaframe`"
   ]
  },
  {
   "cell_type": "markdown",
   "metadata": {},
   "source": [
    "## How to use deltaframe\n",
    "\n",
    "First, lets create two dataframes (one from the previous day, one from the current day) - items have been \n",
    "- added\n",
    "- removed and\n",
    "- modified"
   ]
  },
  {
   "cell_type": "code",
   "execution_count": null,
   "metadata": {},
   "outputs": [],
   "source": [
    "df1=pd.DataFrame({\n",
    "    'date':['2013-11-24','2013-11-24','2013-11-24','2013-11-24'],\n",
    "    'id':['001','002','003','004'],\n",
    "    'quantity':[22,8,7,10],\n",
    "    'color':['Yellow','Orange','Red','Yellow'],\n",
    "})\n",
    "df2=pd.DataFrame({\n",
    "    'date':['2013-11-24','2013-11-25','2013-11-24','2013-11-24'],\n",
    "    'id':['001','002', '004', '005'],\n",
    "    'quantity':[22,6,5,10],\n",
    "    'color':['Yellow','Orange','Red','Pink'],\n",
    "})"
   ]
  },
  {
   "cell_type": "code",
   "execution_count": null,
   "metadata": {},
   "outputs": [
    {
     "data": {
      "text/html": "<div>\n<style scoped>\n    .dataframe tbody tr th:only-of-type {\n        vertical-align: middle;\n    }\n\n    .dataframe tbody tr th {\n        vertical-align: top;\n    }\n\n    .dataframe thead th {\n        text-align: right;\n    }\n</style>\n<table border=\"1\" class=\"dataframe\">\n  <thead>\n    <tr style=\"text-align: right;\">\n      <th></th>\n      <th>date</th>\n      <th>id</th>\n      <th>quantity</th>\n      <th>color</th>\n    </tr>\n  </thead>\n  <tbody>\n    <tr>\n      <th>0</th>\n      <td>2013-11-24</td>\n      <td>001</td>\n      <td>22</td>\n      <td>Yellow</td>\n    </tr>\n    <tr>\n      <th>1</th>\n      <td>2013-11-24</td>\n      <td>002</td>\n      <td>8</td>\n      <td>Orange</td>\n    </tr>\n    <tr>\n      <th>2</th>\n      <td>2013-11-24</td>\n      <td>003</td>\n      <td>7</td>\n      <td>Red</td>\n    </tr>\n    <tr>\n      <th>3</th>\n      <td>2013-11-24</td>\n      <td>004</td>\n      <td>10</td>\n      <td>Yellow</td>\n    </tr>\n  </tbody>\n</table>\n</div>",
      "text/plain": [
       "         date   id  quantity   color\n",
       "0  2013-11-24  001        22  Yellow\n",
       "1  2013-11-24  002         8  Orange\n",
       "2  2013-11-24  003         7     Red\n",
       "3  2013-11-24  004        10  Yellow"
      ]
     },
     "execution_count": null,
     "metadata": {},
     "output_type": "execute_result"
    }
   ],
   "source": [
    "df1"
   ]
  },
  {
   "cell_type": "code",
   "execution_count": null,
   "metadata": {},
   "outputs": [
    {
     "data": {
      "text/html": "<div>\n<style scoped>\n    .dataframe tbody tr th:only-of-type {\n        vertical-align: middle;\n    }\n\n    .dataframe tbody tr th {\n        vertical-align: top;\n    }\n\n    .dataframe thead th {\n        text-align: right;\n    }\n</style>\n<table border=\"1\" class=\"dataframe\">\n  <thead>\n    <tr style=\"text-align: right;\">\n      <th></th>\n      <th>date</th>\n      <th>id</th>\n      <th>quantity</th>\n      <th>color</th>\n    </tr>\n  </thead>\n  <tbody>\n    <tr>\n      <th>0</th>\n      <td>2013-11-24</td>\n      <td>001</td>\n      <td>22</td>\n      <td>Yellow</td>\n    </tr>\n    <tr>\n      <th>1</th>\n      <td>2013-11-25</td>\n      <td>002</td>\n      <td>6</td>\n      <td>Orange</td>\n    </tr>\n    <tr>\n      <th>2</th>\n      <td>2013-11-24</td>\n      <td>004</td>\n      <td>5</td>\n      <td>Red</td>\n    </tr>\n    <tr>\n      <th>3</th>\n      <td>2013-11-24</td>\n      <td>005</td>\n      <td>10</td>\n      <td>Pink</td>\n    </tr>\n  </tbody>\n</table>\n</div>",
      "text/plain": [
       "         date   id  quantity   color\n",
       "0  2013-11-24  001        22  Yellow\n",
       "1  2013-11-25  002         6  Orange\n",
       "2  2013-11-24  004         5     Red\n",
       "3  2013-11-24  005        10    Pink"
      ]
     },
     "execution_count": null,
     "metadata": {},
     "output_type": "execute_result"
    }
   ],
   "source": [
    "df2"
   ]
  },
  {
   "cell_type": "markdown",
   "metadata": {},
   "source": [
    "#### First look at entries that were added (in df2 but not in df1)"
   ]
  },
  {
   "cell_type": "code",
   "execution_count": null,
   "metadata": {},
   "outputs": [
    {
     "data": {
      "text/html": "<div>\n<style scoped>\n    .dataframe tbody tr th:only-of-type {\n        vertical-align: middle;\n    }\n\n    .dataframe tbody tr th {\n        vertical-align: top;\n    }\n\n    .dataframe thead th {\n        text-align: right;\n    }\n</style>\n<table border=\"1\" class=\"dataframe\">\n  <thead>\n    <tr style=\"text-align: right;\">\n      <th></th>\n      <th>date</th>\n      <th>id</th>\n      <th>quantity</th>\n      <th>color</th>\n      <th>transaction</th>\n    </tr>\n  </thead>\n  <tbody>\n    <tr>\n      <th>4</th>\n      <td>2013-11-24</td>\n      <td>005</td>\n      <td>10.0</td>\n      <td>Pink</td>\n      <td>added</td>\n    </tr>\n  </tbody>\n</table>\n</div>",
      "text/plain": [
       "         date   id  quantity color transaction\n",
       "4  2013-11-24  005      10.0  Pink       added"
      ]
     },
     "execution_count": null,
     "metadata": {},
     "output_type": "execute_result"
    }
   ],
   "source": [
    "added_entries = get_added_entries(df_old=df1, df_new=df2, unique_id=\"id\")\n",
    "added_entries"
   ]
  },
  {
   "cell_type": "markdown",
   "metadata": {},
   "source": [
    "#### What about removed entries (in df1 but not any longer in df2)"
   ]
  },
  {
   "cell_type": "code",
   "execution_count": null,
   "metadata": {},
   "outputs": [
    {
     "data": {
      "text/html": "<div>\n<style scoped>\n    .dataframe tbody tr th:only-of-type {\n        vertical-align: middle;\n    }\n\n    .dataframe tbody tr th {\n        vertical-align: top;\n    }\n\n    .dataframe thead th {\n        text-align: right;\n    }\n</style>\n<table border=\"1\" class=\"dataframe\">\n  <thead>\n    <tr style=\"text-align: right;\">\n      <th></th>\n      <th>date</th>\n      <th>id</th>\n      <th>quantity</th>\n      <th>color</th>\n      <th>transaction</th>\n    </tr>\n  </thead>\n  <tbody>\n    <tr>\n      <th>4</th>\n      <td>2013-11-24</td>\n      <td>003</td>\n      <td>7.0</td>\n      <td>Red</td>\n      <td>removed</td>\n    </tr>\n  </tbody>\n</table>\n</div>",
      "text/plain": [
       "         date   id  quantity color transaction\n",
       "4  2013-11-24  003       7.0   Red     removed"
      ]
     },
     "execution_count": null,
     "metadata": {},
     "output_type": "execute_result"
    }
   ],
   "source": [
    "removed_entries = get_removed_entries(df_old=df1, df_new=df2, unique_id=\"id\")\n",
    "removed_entries"
   ]
  },
  {
   "cell_type": "markdown",
   "metadata": {},
   "source": [
    "#### Awesome, finally we check for the modified entries (initially not considering new items)"
   ]
  },
  {
   "cell_type": "code",
   "execution_count": null,
   "metadata": {},
   "outputs": [
    {
     "data": {
      "text/html": "<div>\n<style scoped>\n    .dataframe tbody tr th:only-of-type {\n        vertical-align: middle;\n    }\n\n    .dataframe tbody tr th {\n        vertical-align: top;\n    }\n\n    .dataframe thead th {\n        text-align: right;\n    }\n</style>\n<table border=\"1\" class=\"dataframe\">\n  <thead>\n    <tr style=\"text-align: right;\">\n      <th></th>\n      <th>date</th>\n      <th>id</th>\n      <th>quantity</th>\n      <th>color</th>\n      <th>transaction</th>\n    </tr>\n  </thead>\n  <tbody>\n    <tr>\n      <th>4</th>\n      <td>2013-11-25</td>\n      <td>002</td>\n      <td>6</td>\n      <td>Orange</td>\n      <td>modified</td>\n    </tr>\n    <tr>\n      <th>5</th>\n      <td>2013-11-24</td>\n      <td>004</td>\n      <td>5</td>\n      <td>Red</td>\n      <td>modified</td>\n    </tr>\n    <tr>\n      <th>6</th>\n      <td>2013-11-24</td>\n      <td>005</td>\n      <td>10</td>\n      <td>Pink</td>\n      <td>modified</td>\n    </tr>\n  </tbody>\n</table>\n</div>",
      "text/plain": [
       "         date   id  quantity   color transaction\n",
       "4  2013-11-25  002         6  Orange    modified\n",
       "5  2013-11-24  004         5     Red    modified\n",
       "6  2013-11-24  005        10    Pink    modified"
      ]
     },
     "execution_count": null,
     "metadata": {},
     "output_type": "execute_result"
    }
   ],
   "source": [
    "modified_entries = get_modified_entries(df_old=df1, df_new=df2, unique_id=\"id\")\n",
    "modified_entries"
   ]
  },
  {
   "cell_type": "markdown",
   "metadata": {},
   "source": [
    "#### Finally, let's build a logging file to document when an entry been added, modified or deleted.\n",
    "\n",
    "Initially there is no log file so we set `df_log=None`"
   ]
  },
  {
   "cell_type": "code",
   "execution_count": null,
   "metadata": {},
   "outputs": [
    {
     "data": {
      "text/html": "<div>\n<style scoped>\n    .dataframe tbody tr th:only-of-type {\n        vertical-align: middle;\n    }\n\n    .dataframe tbody tr th {\n        vertical-align: top;\n    }\n\n    .dataframe thead th {\n        text-align: right;\n    }\n</style>\n<table border=\"1\" class=\"dataframe\">\n  <thead>\n    <tr style=\"text-align: right;\">\n      <th></th>\n      <th>date</th>\n      <th>id</th>\n      <th>quantity</th>\n      <th>color</th>\n      <th>transaction</th>\n    </tr>\n  </thead>\n  <tbody>\n    <tr>\n      <th>0</th>\n      <td>2013-11-24</td>\n      <td>001</td>\n      <td>22</td>\n      <td>Yellow</td>\n      <td>added</td>\n    </tr>\n    <tr>\n      <th>1</th>\n      <td>2013-11-24</td>\n      <td>002</td>\n      <td>8</td>\n      <td>Orange</td>\n      <td>added</td>\n    </tr>\n    <tr>\n      <th>2</th>\n      <td>2013-11-24</td>\n      <td>003</td>\n      <td>7</td>\n      <td>Red</td>\n      <td>added</td>\n    </tr>\n    <tr>\n      <th>3</th>\n      <td>2013-11-24</td>\n      <td>004</td>\n      <td>10</td>\n      <td>Yellow</td>\n      <td>added</td>\n    </tr>\n  </tbody>\n</table>\n</div>",
      "text/plain": [
       "         date   id  quantity   color transaction\n",
       "0  2013-11-24  001        22  Yellow       added\n",
       "1  2013-11-24  002         8  Orange       added\n",
       "2  2013-11-24  003         7     Red       added\n",
       "3  2013-11-24  004        10  Yellow       added"
      ]
     },
     "execution_count": null,
     "metadata": {},
     "output_type": "execute_result"
    }
   ],
   "source": [
    "df_log = logging(df_log=None, df_old=df1, df_new=df2, unique_id=\"id\")\n",
    "df_log"
   ]
  },
  {
   "cell_type": "markdown",
   "metadata": {},
   "source": [
    "When there's an existing log file we happily pass it to our logging function..."
   ]
  },
  {
   "cell_type": "code",
   "execution_count": null,
   "metadata": {},
   "outputs": [
    {
     "data": {
      "text/html": "<div>\n<style scoped>\n    .dataframe tbody tr th:only-of-type {\n        vertical-align: middle;\n    }\n\n    .dataframe tbody tr th {\n        vertical-align: top;\n    }\n\n    .dataframe thead th {\n        text-align: right;\n    }\n</style>\n<table border=\"1\" class=\"dataframe\">\n  <thead>\n    <tr style=\"text-align: right;\">\n      <th></th>\n      <th>date</th>\n      <th>id</th>\n      <th>quantity</th>\n      <th>color</th>\n      <th>transaction</th>\n    </tr>\n  </thead>\n  <tbody>\n    <tr>\n      <th>0</th>\n      <td>2013-11-24</td>\n      <td>001</td>\n      <td>22.0</td>\n      <td>Yellow</td>\n      <td>added</td>\n    </tr>\n    <tr>\n      <th>1</th>\n      <td>2013-11-24</td>\n      <td>002</td>\n      <td>8.0</td>\n      <td>Orange</td>\n      <td>added</td>\n    </tr>\n    <tr>\n      <th>2</th>\n      <td>2013-11-24</td>\n      <td>003</td>\n      <td>7.0</td>\n      <td>Red</td>\n      <td>added</td>\n    </tr>\n    <tr>\n      <th>3</th>\n      <td>2013-11-24</td>\n      <td>004</td>\n      <td>10.0</td>\n      <td>Yellow</td>\n      <td>added</td>\n    </tr>\n    <tr>\n      <th>4</th>\n      <td>2013-11-25</td>\n      <td>002</td>\n      <td>6.0</td>\n      <td>Orange</td>\n      <td>modified</td>\n    </tr>\n    <tr>\n      <th>5</th>\n      <td>2013-11-24</td>\n      <td>004</td>\n      <td>5.0</td>\n      <td>Red</td>\n      <td>modified</td>\n    </tr>\n    <tr>\n      <th>6</th>\n      <td>2013-11-24</td>\n      <td>005</td>\n      <td>10.0</td>\n      <td>Pink</td>\n      <td>added</td>\n    </tr>\n    <tr>\n      <th>7</th>\n      <td>2013-11-24</td>\n      <td>003</td>\n      <td>7.0</td>\n      <td>Red</td>\n      <td>removed</td>\n    </tr>\n  </tbody>\n</table>\n</div>",
      "text/plain": [
       "         date   id  quantity   color transaction\n",
       "0  2013-11-24  001      22.0  Yellow       added\n",
       "1  2013-11-24  002       8.0  Orange       added\n",
       "2  2013-11-24  003       7.0     Red       added\n",
       "3  2013-11-24  004      10.0  Yellow       added\n",
       "4  2013-11-25  002       6.0  Orange    modified\n",
       "5  2013-11-24  004       5.0     Red    modified\n",
       "6  2013-11-24  005      10.0    Pink       added\n",
       "7  2013-11-24  003       7.0     Red     removed"
      ]
     },
     "execution_count": null,
     "metadata": {},
     "output_type": "execute_result"
    }
   ],
   "source": [
    "df_log = logging(df_log=df_log, df_old=df1, df_new=df2, unique_id=\"id\")\n",
    "df_log"
   ]
  },
  {
   "cell_type": "markdown",
   "metadata": {},
   "source": [
    "Finally, if we want to sort our log file by a particular column."
   ]
  },
  {
   "cell_type": "code",
   "execution_count": null,
   "metadata": {},
   "outputs": [
    {
     "data": {
      "text/html": "<div>\n<style scoped>\n    .dataframe tbody tr th:only-of-type {\n        vertical-align: middle;\n    }\n\n    .dataframe tbody tr th {\n        vertical-align: top;\n    }\n\n    .dataframe thead th {\n        text-align: right;\n    }\n</style>\n<table border=\"1\" class=\"dataframe\">\n  <thead>\n    <tr style=\"text-align: right;\">\n      <th></th>\n      <th>date</th>\n      <th>id</th>\n      <th>quantity</th>\n      <th>color</th>\n      <th>transaction</th>\n    </tr>\n  </thead>\n  <tbody>\n    <tr>\n      <th>0</th>\n      <td>2013-11-24</td>\n      <td>001</td>\n      <td>22.0</td>\n      <td>Yellow</td>\n      <td>added</td>\n    </tr>\n    <tr>\n      <th>1</th>\n      <td>2013-11-24</td>\n      <td>002</td>\n      <td>8.0</td>\n      <td>Orange</td>\n      <td>added</td>\n    </tr>\n    <tr>\n      <th>2</th>\n      <td>2013-11-24</td>\n      <td>003</td>\n      <td>7.0</td>\n      <td>Red</td>\n      <td>added</td>\n    </tr>\n    <tr>\n      <th>3</th>\n      <td>2013-11-24</td>\n      <td>004</td>\n      <td>10.0</td>\n      <td>Yellow</td>\n      <td>added</td>\n    </tr>\n    <tr>\n      <th>4</th>\n      <td>2013-11-24</td>\n      <td>004</td>\n      <td>5.0</td>\n      <td>Red</td>\n      <td>modified</td>\n    </tr>\n    <tr>\n      <th>5</th>\n      <td>2013-11-24</td>\n      <td>005</td>\n      <td>10.0</td>\n      <td>Pink</td>\n      <td>added</td>\n    </tr>\n    <tr>\n      <th>7</th>\n      <td>2013-11-24</td>\n      <td>005</td>\n      <td>10.0</td>\n      <td>Pink</td>\n      <td>added</td>\n    </tr>\n    <tr>\n      <th>8</th>\n      <td>2013-11-24</td>\n      <td>003</td>\n      <td>7.0</td>\n      <td>Red</td>\n      <td>removed</td>\n    </tr>\n    <tr>\n      <th>6</th>\n      <td>2013-11-25</td>\n      <td>002</td>\n      <td>6.0</td>\n      <td>Orange</td>\n      <td>modified</td>\n    </tr>\n  </tbody>\n</table>\n</div>",
      "text/plain": [
       "         date   id  quantity   color transaction\n",
       "0  2013-11-24  001      22.0  Yellow       added\n",
       "1  2013-11-24  002       8.0  Orange       added\n",
       "2  2013-11-24  003       7.0     Red       added\n",
       "3  2013-11-24  004      10.0  Yellow       added\n",
       "4  2013-11-24  004       5.0     Red    modified\n",
       "5  2013-11-24  005      10.0    Pink       added\n",
       "7  2013-11-24  005      10.0    Pink       added\n",
       "8  2013-11-24  003       7.0     Red     removed\n",
       "6  2013-11-25  002       6.0  Orange    modified"
      ]
     },
     "execution_count": null,
     "metadata": {},
     "output_type": "execute_result"
    }
   ],
   "source": [
    "df_log = logging(df_log=df_log, df_old=df1, df_new=df2, unique_id=\"id\", sort_by=[\"date\"])\n",
    "df_log"
   ]
  },
  {
   "cell_type": "code",
   "execution_count": null,
   "metadata": {},
   "outputs": [],
   "source": []
  }
 ],
 "metadata": {
  "kernelspec": {
   "display_name": "Python 3",
   "language": "python",
   "name": "python3"
  }
 },
 "nbformat": 4,
 "nbformat_minor": 2
}
