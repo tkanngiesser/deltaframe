{
 "cells": [
  {
   "cell_type": "markdown",
   "metadata": {},
   "source": [
    "# deltaframe\n",
    "\n",
    "> Show and log the delta between two Pandas dataframes."
   ]
  },
  {
   "cell_type": "markdown",
   "metadata": {},
   "source": [
    "## Install"
   ]
  },
  {
   "cell_type": "markdown",
   "metadata": {},
   "source": [
    "`pip install deltaframe`"
   ]
  },
  {
   "cell_type": "code",
   "execution_count": null,
   "metadata": {},
   "outputs": [
    {
     "name": "stdout",
     "output_type": "stream",
     "text": [
      "The autoreload extension is already loaded. To reload it, use:\n  %reload_ext autoreload\n"
     ]
    }
   ],
   "source": [
    "#hide\n",
    "%load_ext autoreload\n",
    "%autoreload 2s\n",
    "from deltaframe.core import *\n",
    "import pandas as pd"
   ]
  },
  {
   "cell_type": "markdown",
   "metadata": {},
   "source": [
    "## How to use deltaframe\n",
    "\n",
    "First, lets create two dataframes (e.g. transaction date from consecutive days). "
   ]
  },
  {
   "cell_type": "code",
   "execution_count": null,
   "metadata": {},
   "outputs": [],
   "source": [
    "df_old = pd.DataFrame({\n",
    "    'date':['2013-11-24','2013-11-24','2013-11-24','2013-11-24'],\n",
    "    'id':['001','002','003','004'],\n",
    "    'quantity':[22,8,7,10],\n",
    "    'color':['Yellow','Orange','Red','Yellow'],\n",
    "})\n",
    "df_new = pd.DataFrame({\n",
    "    'date':['2013-11-24','2013-11-25','2013-11-24','2013-11-24'],\n",
    "    'id':['001','002', '004', '005'],\n",
    "    'quantity':[22,6,5,10],\n",
    "    'color':['Yellow','Orange','Red','Pink'],\n",
    "})"
   ]
  },
  {
   "cell_type": "code",
   "execution_count": null,
   "metadata": {},
   "outputs": [
    {
     "data": {
      "text/html": "<div>\n<style scoped>\n    .dataframe tbody tr th:only-of-type {\n        vertical-align: middle;\n    }\n\n    .dataframe tbody tr th {\n        vertical-align: top;\n    }\n\n    .dataframe thead th {\n        text-align: right;\n    }\n</style>\n<table border=\"1\" class=\"dataframe\">\n  <thead>\n    <tr style=\"text-align: right;\">\n      <th></th>\n      <th>date</th>\n      <th>id</th>\n      <th>quantity</th>\n      <th>color</th>\n    </tr>\n  </thead>\n  <tbody>\n    <tr>\n      <th>0</th>\n      <td>2013-11-24</td>\n      <td>001</td>\n      <td>22</td>\n      <td>Yellow</td>\n    </tr>\n    <tr>\n      <th>1</th>\n      <td>2013-11-24</td>\n      <td>002</td>\n      <td>8</td>\n      <td>Orange</td>\n    </tr>\n    <tr>\n      <th>2</th>\n      <td>2013-11-24</td>\n      <td>003</td>\n      <td>7</td>\n      <td>Red</td>\n    </tr>\n    <tr>\n      <th>3</th>\n      <td>2013-11-24</td>\n      <td>004</td>\n      <td>10</td>\n      <td>Yellow</td>\n    </tr>\n  </tbody>\n</table>\n</div>",
      "text/plain": [
       "         date   id  quantity   color\n",
       "0  2013-11-24  001        22  Yellow\n",
       "1  2013-11-24  002         8  Orange\n",
       "2  2013-11-24  003         7     Red\n",
       "3  2013-11-24  004        10  Yellow"
      ]
     },
     "execution_count": null,
     "metadata": {},
     "output_type": "execute_result"
    }
   ],
   "source": [
    "df_old"
   ]
  },
  {
   "cell_type": "code",
   "execution_count": null,
   "metadata": {},
   "outputs": [
    {
     "data": {
      "text/html": "<div>\n<style scoped>\n    .dataframe tbody tr th:only-of-type {\n        vertical-align: middle;\n    }\n\n    .dataframe tbody tr th {\n        vertical-align: top;\n    }\n\n    .dataframe thead th {\n        text-align: right;\n    }\n</style>\n<table border=\"1\" class=\"dataframe\">\n  <thead>\n    <tr style=\"text-align: right;\">\n      <th></th>\n      <th>date</th>\n      <th>id</th>\n      <th>quantity</th>\n      <th>color</th>\n    </tr>\n  </thead>\n  <tbody>\n    <tr>\n      <th>0</th>\n      <td>2013-11-24</td>\n      <td>001</td>\n      <td>22</td>\n      <td>Yellow</td>\n    </tr>\n    <tr>\n      <th>1</th>\n      <td>2013-11-25</td>\n      <td>002</td>\n      <td>6</td>\n      <td>Orange</td>\n    </tr>\n    <tr>\n      <th>2</th>\n      <td>2013-11-24</td>\n      <td>004</td>\n      <td>5</td>\n      <td>Red</td>\n    </tr>\n    <tr>\n      <th>3</th>\n      <td>2013-11-24</td>\n      <td>005</td>\n      <td>10</td>\n      <td>Pink</td>\n    </tr>\n  </tbody>\n</table>\n</div>",
      "text/plain": [
       "         date   id  quantity   color\n",
       "0  2013-11-24  001        22  Yellow\n",
       "1  2013-11-25  002         6  Orange\n",
       "2  2013-11-24  004         5     Red\n",
       "3  2013-11-24  005        10    Pink"
      ]
     },
     "execution_count": null,
     "metadata": {},
     "output_type": "execute_result"
    }
   ],
   "source": [
    "df_new"
   ]
  },
  {
   "cell_type": "markdown",
   "metadata": {},
   "source": [
    "#### Show the delta\n",
    "\n",
    "Let's look at the main function `get_delta` first."
   ]
  },
  {
   "cell_type": "code",
   "execution_count": null,
   "metadata": {},
   "outputs": [
    {
     "data": {
      "text/html": "<div>\n<style scoped>\n    .dataframe tbody tr th:only-of-type {\n        vertical-align: middle;\n    }\n\n    .dataframe tbody tr th {\n        vertical-align: top;\n    }\n\n    .dataframe thead th {\n        text-align: right;\n    }\n</style>\n<table border=\"1\" class=\"dataframe\">\n  <thead>\n    <tr style=\"text-align: right;\">\n      <th></th>\n      <th>date</th>\n      <th>id</th>\n      <th>quantity</th>\n      <th>color</th>\n      <th>transaction</th>\n    </tr>\n  </thead>\n  <tbody>\n    <tr>\n      <th>4</th>\n      <td>2013-11-24</td>\n      <td>005</td>\n      <td>10.0</td>\n      <td>Pink</td>\n      <td>added</td>\n    </tr>\n    <tr>\n      <th>4</th>\n      <td>2013-11-24</td>\n      <td>003</td>\n      <td>7.0</td>\n      <td>Red</td>\n      <td>removed</td>\n    </tr>\n    <tr>\n      <th>5</th>\n      <td>2013-11-24</td>\n      <td>004</td>\n      <td>5.0</td>\n      <td>Red</td>\n      <td>modified</td>\n    </tr>\n    <tr>\n      <th>4</th>\n      <td>2013-11-25</td>\n      <td>002</td>\n      <td>6.0</td>\n      <td>Orange</td>\n      <td>modified</td>\n    </tr>\n  </tbody>\n</table>\n</div>",
      "text/plain": [
       "         date   id  quantity   color transaction\n",
       "4  2013-11-24  005      10.0    Pink       added\n",
       "4  2013-11-24  003       7.0     Red     removed\n",
       "5  2013-11-24  004       5.0     Red    modified\n",
       "4  2013-11-25  002       6.0  Orange    modified"
      ]
     },
     "execution_count": null,
     "metadata": {},
     "output_type": "execute_result"
    }
   ],
   "source": [
    "get_delta(df_old=df_old, df_new=df_new, unique_id=\"id\", sort_by=\"date\")"
   ]
  },
  {
   "cell_type": "markdown",
   "metadata": {},
   "source": [
    "#### Show added, removed and modified rows.\n",
    "\n",
    "It's also possible to just get information about added, removed or modified rows as shown in the following:"
   ]
  },
  {
   "cell_type": "markdown",
   "metadata": {},
   "source": [
    "Show added rows with `get_added`."
   ]
  },
  {
   "cell_type": "code",
   "execution_count": null,
   "metadata": {},
   "outputs": [
    {
     "data": {
      "text/html": "<div>\n<style scoped>\n    .dataframe tbody tr th:only-of-type {\n        vertical-align: middle;\n    }\n\n    .dataframe tbody tr th {\n        vertical-align: top;\n    }\n\n    .dataframe thead th {\n        text-align: right;\n    }\n</style>\n<table border=\"1\" class=\"dataframe\">\n  <thead>\n    <tr style=\"text-align: right;\">\n      <th></th>\n      <th>date</th>\n      <th>id</th>\n      <th>quantity</th>\n      <th>color</th>\n      <th>transaction</th>\n    </tr>\n  </thead>\n  <tbody>\n    <tr>\n      <th>4</th>\n      <td>2013-11-24</td>\n      <td>005</td>\n      <td>10.0</td>\n      <td>Pink</td>\n      <td>added</td>\n    </tr>\n  </tbody>\n</table>\n</div>",
      "text/plain": [
       "         date   id  quantity color transaction\n",
       "4  2013-11-24  005      10.0  Pink       added"
      ]
     },
     "execution_count": null,
     "metadata": {},
     "output_type": "execute_result"
    }
   ],
   "source": [
    "added_rows = get_added(df_old=df_old, df_new=df_new, unique_id=\"id\")\n",
    "added_rows"
   ]
  },
  {
   "cell_type": "markdown",
   "metadata": {},
   "source": [
    "What about removed rows (in df_old but not any longer in df_new) ?\n",
    "\n",
    "`get_removed`"
   ]
  },
  {
   "cell_type": "code",
   "execution_count": null,
   "metadata": {},
   "outputs": [
    {
     "data": {
      "text/html": "<div>\n<style scoped>\n    .dataframe tbody tr th:only-of-type {\n        vertical-align: middle;\n    }\n\n    .dataframe tbody tr th {\n        vertical-align: top;\n    }\n\n    .dataframe thead th {\n        text-align: right;\n    }\n</style>\n<table border=\"1\" class=\"dataframe\">\n  <thead>\n    <tr style=\"text-align: right;\">\n      <th></th>\n      <th>date</th>\n      <th>id</th>\n      <th>quantity</th>\n      <th>color</th>\n      <th>transaction</th>\n    </tr>\n  </thead>\n  <tbody>\n    <tr>\n      <th>4</th>\n      <td>2013-11-24</td>\n      <td>003</td>\n      <td>7.0</td>\n      <td>Red</td>\n      <td>removed</td>\n    </tr>\n  </tbody>\n</table>\n</div>",
      "text/plain": [
       "         date   id  quantity color transaction\n",
       "4  2013-11-24  003       7.0   Red     removed"
      ]
     },
     "execution_count": null,
     "metadata": {},
     "output_type": "execute_result"
    }
   ],
   "source": [
    "removed_rows = get_removed(df_old=df_old, df_new=df_new, unique_id=\"id\")\n",
    "removed_rows"
   ]
  },
  {
   "cell_type": "markdown",
   "metadata": {},
   "source": [
    "Awesome, finally we check for the modified rows (also showing added rows) with `get_modified`."
   ]
  },
  {
   "cell_type": "code",
   "execution_count": null,
   "metadata": {},
   "outputs": [
    {
     "data": {
      "text/html": "<div>\n<style scoped>\n    .dataframe tbody tr th:only-of-type {\n        vertical-align: middle;\n    }\n\n    .dataframe tbody tr th {\n        vertical-align: top;\n    }\n\n    .dataframe thead th {\n        text-align: right;\n    }\n</style>\n<table border=\"1\" class=\"dataframe\">\n  <thead>\n    <tr style=\"text-align: right;\">\n      <th></th>\n      <th>date</th>\n      <th>id</th>\n      <th>quantity</th>\n      <th>color</th>\n      <th>transaction</th>\n    </tr>\n  </thead>\n  <tbody>\n    <tr>\n      <th>4</th>\n      <td>2013-11-25</td>\n      <td>002</td>\n      <td>6</td>\n      <td>Orange</td>\n      <td>modified</td>\n    </tr>\n    <tr>\n      <th>5</th>\n      <td>2013-11-24</td>\n      <td>004</td>\n      <td>5</td>\n      <td>Red</td>\n      <td>modified</td>\n    </tr>\n    <tr>\n      <th>6</th>\n      <td>2013-11-24</td>\n      <td>005</td>\n      <td>10</td>\n      <td>Pink</td>\n      <td>modified</td>\n    </tr>\n  </tbody>\n</table>\n</div>",
      "text/plain": [
       "         date   id  quantity   color transaction\n",
       "4  2013-11-25  002         6  Orange    modified\n",
       "5  2013-11-24  004         5     Red    modified\n",
       "6  2013-11-24  005        10    Pink    modified"
      ]
     },
     "execution_count": null,
     "metadata": {},
     "output_type": "execute_result"
    }
   ],
   "source": [
    "modified_rows = get_modified(df_old=df_old, df_new=df_new, unique_id=\"id\")\n",
    "modified_rows"
   ]
  },
  {
   "cell_type": "markdown",
   "metadata": {},
   "source": [
    "If we don't want to show added rows as modified, we can pass the added_rows dataframe created above."
   ]
  },
  {
   "cell_type": "code",
   "execution_count": null,
   "metadata": {},
   "outputs": [
    {
     "data": {
      "text/html": "<div>\n<style scoped>\n    .dataframe tbody tr th:only-of-type {\n        vertical-align: middle;\n    }\n\n    .dataframe tbody tr th {\n        vertical-align: top;\n    }\n\n    .dataframe thead th {\n        text-align: right;\n    }\n</style>\n<table border=\"1\" class=\"dataframe\">\n  <thead>\n    <tr style=\"text-align: right;\">\n      <th></th>\n      <th>date</th>\n      <th>id</th>\n      <th>quantity</th>\n      <th>color</th>\n      <th>transaction</th>\n    </tr>\n  </thead>\n  <tbody>\n    <tr>\n      <th>4</th>\n      <td>2013-11-25</td>\n      <td>002</td>\n      <td>6</td>\n      <td>Orange</td>\n      <td>modified</td>\n    </tr>\n    <tr>\n      <th>5</th>\n      <td>2013-11-24</td>\n      <td>004</td>\n      <td>5</td>\n      <td>Red</td>\n      <td>modified</td>\n    </tr>\n  </tbody>\n</table>\n</div>",
      "text/plain": [
       "         date   id  quantity   color transaction\n",
       "4  2013-11-25  002         6  Orange    modified\n",
       "5  2013-11-24  004         5     Red    modified"
      ]
     },
     "execution_count": null,
     "metadata": {},
     "output_type": "execute_result"
    }
   ],
   "source": [
    "modified_rows = get_modified(df_old=df_old, df_new=df_new, unique_id=\"id\", added_rows=added_rows)\n",
    "modified_rows"
   ]
  },
  {
   "cell_type": "markdown",
   "metadata": {},
   "source": [
    "#### Logging the delta\n",
    "Finally, it's also possible to log the delta (e.g. transactions over time). \n",
    "\n",
    "Initially there is no log file so we set `df_log=None`."
   ]
  },
  {
   "cell_type": "code",
   "execution_count": null,
   "metadata": {},
   "outputs": [
    {
     "data": {
      "text/html": "<div>\n<style scoped>\n    .dataframe tbody tr th:only-of-type {\n        vertical-align: middle;\n    }\n\n    .dataframe tbody tr th {\n        vertical-align: top;\n    }\n\n    .dataframe thead th {\n        text-align: right;\n    }\n</style>\n<table border=\"1\" class=\"dataframe\">\n  <thead>\n    <tr style=\"text-align: right;\">\n      <th></th>\n      <th>date</th>\n      <th>id</th>\n      <th>quantity</th>\n      <th>color</th>\n      <th>transaction</th>\n    </tr>\n  </thead>\n  <tbody>\n    <tr>\n      <th>0</th>\n      <td>2013-11-24</td>\n      <td>001</td>\n      <td>22</td>\n      <td>Yellow</td>\n      <td>added</td>\n    </tr>\n    <tr>\n      <th>1</th>\n      <td>2013-11-24</td>\n      <td>002</td>\n      <td>8</td>\n      <td>Orange</td>\n      <td>added</td>\n    </tr>\n    <tr>\n      <th>2</th>\n      <td>2013-11-24</td>\n      <td>003</td>\n      <td>7</td>\n      <td>Red</td>\n      <td>added</td>\n    </tr>\n    <tr>\n      <th>3</th>\n      <td>2013-11-24</td>\n      <td>004</td>\n      <td>10</td>\n      <td>Yellow</td>\n      <td>added</td>\n    </tr>\n  </tbody>\n</table>\n</div>",
      "text/plain": [
       "         date   id  quantity   color transaction\n",
       "0  2013-11-24  001        22  Yellow       added\n",
       "1  2013-11-24  002         8  Orange       added\n",
       "2  2013-11-24  003         7     Red       added\n",
       "3  2013-11-24  004        10  Yellow       added"
      ]
     },
     "execution_count": null,
     "metadata": {},
     "output_type": "execute_result"
    }
   ],
   "source": [
    "df_log = log_delta(df_log=None, df_old=df_old, df_new=df_new, unique_id=\"id\")\n",
    "df_log"
   ]
  },
  {
   "cell_type": "markdown",
   "metadata": {},
   "source": [
    "When there's an existing log file we happily pass it to our logging function..."
   ]
  },
  {
   "cell_type": "code",
   "execution_count": null,
   "metadata": {},
   "outputs": [
    {
     "ename": "NameError",
     "evalue": "name 'get_modified_rows' is not defined",
     "output_type": "error",
     "traceback": [
      "\u001b[0;31m---------------------------------------------------------------------------\u001b[0m",
      "\u001b[0;31mNameError\u001b[0m                                 Traceback (most recent call last)",
      "\u001b[0;32m<ipython-input-26-b1a66c30bcc2>\u001b[0m in \u001b[0;36m<module>\u001b[0;34m\u001b[0m\n\u001b[0;32m----> 1\u001b[0;31m \u001b[0mdf_log\u001b[0m \u001b[0;34m=\u001b[0m \u001b[0mlog_delta\u001b[0m\u001b[0;34m(\u001b[0m\u001b[0mdf_log\u001b[0m\u001b[0;34m=\u001b[0m\u001b[0mdf_log\u001b[0m\u001b[0;34m,\u001b[0m \u001b[0mdf_old\u001b[0m\u001b[0;34m=\u001b[0m\u001b[0mdf_old\u001b[0m\u001b[0;34m,\u001b[0m \u001b[0mdf_new\u001b[0m\u001b[0;34m=\u001b[0m\u001b[0mdf_new\u001b[0m\u001b[0;34m,\u001b[0m \u001b[0munique_id\u001b[0m\u001b[0;34m=\u001b[0m\u001b[0;34m\"id\"\u001b[0m\u001b[0;34m)\u001b[0m\u001b[0;34m\u001b[0m\u001b[0;34m\u001b[0m\u001b[0m\n\u001b[0m\u001b[1;32m      2\u001b[0m \u001b[0mdf_log\u001b[0m\u001b[0;34m\u001b[0m\u001b[0;34m\u001b[0m\u001b[0m\n",
      "\u001b[0;32m~/Repos/deltaframe/deltaframe/core.py\u001b[0m in \u001b[0;36mlog_delta\u001b[0;34m(df_log, df_old, df_new, unique_id, trans_col, trans_val_added, trans_val_removed, trans_val_modified, sort_by)\u001b[0m\n\u001b[1;32m     63\u001b[0m         \u001b[0madded_rows\u001b[0m \u001b[0;34m=\u001b[0m \u001b[0mget_added\u001b[0m\u001b[0;34m(\u001b[0m\u001b[0mdf_old\u001b[0m\u001b[0;34m=\u001b[0m\u001b[0mdf_old\u001b[0m\u001b[0;34m,\u001b[0m \u001b[0mdf_new\u001b[0m\u001b[0;34m=\u001b[0m\u001b[0mdf_new\u001b[0m\u001b[0;34m,\u001b[0m \u001b[0munique_id\u001b[0m\u001b[0;34m=\u001b[0m\u001b[0munique_id\u001b[0m\u001b[0;34m,\u001b[0m \u001b[0mtrans_col\u001b[0m\u001b[0;34m=\u001b[0m\u001b[0mtrans_col\u001b[0m\u001b[0;34m,\u001b[0m \u001b[0mtrans_vaL\u001b[0m\u001b[0;34m=\u001b[0m\u001b[0mtrans_val_added\u001b[0m\u001b[0;34m)\u001b[0m\u001b[0;34m\u001b[0m\u001b[0;34m\u001b[0m\u001b[0m\n\u001b[1;32m     64\u001b[0m         \u001b[0mremoved_rows\u001b[0m \u001b[0;34m=\u001b[0m \u001b[0mget_removed\u001b[0m\u001b[0;34m(\u001b[0m\u001b[0mdf_old\u001b[0m\u001b[0;34m=\u001b[0m\u001b[0mdf_old\u001b[0m\u001b[0;34m,\u001b[0m \u001b[0mdf_new\u001b[0m\u001b[0;34m=\u001b[0m\u001b[0mdf_new\u001b[0m\u001b[0;34m,\u001b[0m \u001b[0munique_id\u001b[0m\u001b[0;34m=\u001b[0m\u001b[0munique_id\u001b[0m\u001b[0;34m,\u001b[0m \u001b[0mtrans_col\u001b[0m\u001b[0;34m=\u001b[0m\u001b[0mtrans_col\u001b[0m\u001b[0;34m,\u001b[0m \u001b[0mtrans_val\u001b[0m\u001b[0;34m=\u001b[0m\u001b[0mtrans_val_removed\u001b[0m\u001b[0;34m)\u001b[0m\u001b[0;34m\u001b[0m\u001b[0;34m\u001b[0m\u001b[0m\n\u001b[0;32m---> 65\u001b[0;31m         \u001b[0mmodified_rows\u001b[0m \u001b[0;34m=\u001b[0m \u001b[0mget_modified\u001b[0m\u001b[0;34m(\u001b[0m\u001b[0mdf_new\u001b[0m\u001b[0;34m=\u001b[0m\u001b[0mdf_new\u001b[0m\u001b[0;34m,\u001b[0m \u001b[0mdf_old\u001b[0m\u001b[0;34m=\u001b[0m\u001b[0mdf_old\u001b[0m\u001b[0;34m,\u001b[0m \u001b[0munique_id\u001b[0m\u001b[0;34m=\u001b[0m\u001b[0munique_id\u001b[0m\u001b[0;34m,\u001b[0m \u001b[0madded_rows\u001b[0m\u001b[0;34m=\u001b[0m\u001b[0madded_rows\u001b[0m\u001b[0;34m,\u001b[0m \u001b[0mtrans_col\u001b[0m\u001b[0;34m=\u001b[0m\u001b[0mtrans_col\u001b[0m\u001b[0;34m,\u001b[0m \u001b[0mtrans_val\u001b[0m\u001b[0;34m=\u001b[0m\u001b[0mtrans_val_modified\u001b[0m\u001b[0;34m)\u001b[0m\u001b[0;34m\u001b[0m\u001b[0;34m\u001b[0m\u001b[0m\n\u001b[0m\u001b[1;32m     66\u001b[0m         \u001b[0mdf_log\u001b[0m \u001b[0;34m=\u001b[0m \u001b[0mdf_log\u001b[0m\u001b[0;34m.\u001b[0m\u001b[0mappend\u001b[0m\u001b[0;34m(\u001b[0m\u001b[0mmodified_rows\u001b[0m\u001b[0;34m,\u001b[0m \u001b[0mignore_index\u001b[0m\u001b[0;34m=\u001b[0m\u001b[0;32mTrue\u001b[0m\u001b[0;34m)\u001b[0m\u001b[0;34m\u001b[0m\u001b[0;34m\u001b[0m\u001b[0m\n\u001b[1;32m     67\u001b[0m         \u001b[0mdf_log\u001b[0m \u001b[0;34m=\u001b[0m \u001b[0mdf_log\u001b[0m\u001b[0;34m.\u001b[0m\u001b[0mdrop_duplicates\u001b[0m\u001b[0;34m(\u001b[0m\u001b[0msubset\u001b[0m\u001b[0;34m=\u001b[0m\u001b[0msubset\u001b[0m\u001b[0;34m,\u001b[0m \u001b[0mkeep\u001b[0m\u001b[0;34m=\u001b[0m\u001b[0;34m\"first\"\u001b[0m\u001b[0;34m)\u001b[0m\u001b[0;34m\u001b[0m\u001b[0;34m\u001b[0m\u001b[0m\n",
      "\u001b[0;31mNameError\u001b[0m: name 'get_modified_rows' is not defined"
     ]
    }
   ],
   "source": [
    "df_log = log_delta(df_log=df_log, df_old=df_old, df_new=df_new, unique_id=\"id\")\n",
    "df_log"
   ]
  },
  {
   "cell_type": "markdown",
   "metadata": {},
   "source": [
    "Finally, if we want to sort our log file by a particular column."
   ]
  },
  {
   "cell_type": "code",
   "execution_count": null,
   "metadata": {},
   "outputs": [
    {
     "data": {
      "text/html": "<div>\n<style scoped>\n    .dataframe tbody tr th:only-of-type {\n        vertical-align: middle;\n    }\n\n    .dataframe tbody tr th {\n        vertical-align: top;\n    }\n\n    .dataframe thead th {\n        text-align: right;\n    }\n</style>\n<table border=\"1\" class=\"dataframe\">\n  <thead>\n    <tr style=\"text-align: right;\">\n      <th></th>\n      <th>date</th>\n      <th>id</th>\n      <th>quantity</th>\n      <th>color</th>\n      <th>transaction</th>\n    </tr>\n  </thead>\n  <tbody>\n    <tr>\n      <th>0</th>\n      <td>2013-11-24</td>\n      <td>001</td>\n      <td>22.0</td>\n      <td>Yellow</td>\n      <td>added</td>\n    </tr>\n    <tr>\n      <th>1</th>\n      <td>2013-11-24</td>\n      <td>002</td>\n      <td>8.0</td>\n      <td>Orange</td>\n      <td>added</td>\n    </tr>\n    <tr>\n      <th>2</th>\n      <td>2013-11-24</td>\n      <td>003</td>\n      <td>7.0</td>\n      <td>Red</td>\n      <td>added</td>\n    </tr>\n    <tr>\n      <th>3</th>\n      <td>2013-11-24</td>\n      <td>004</td>\n      <td>10.0</td>\n      <td>Yellow</td>\n      <td>added</td>\n    </tr>\n    <tr>\n      <th>5</th>\n      <td>2013-11-24</td>\n      <td>004</td>\n      <td>5.0</td>\n      <td>Red</td>\n      <td>modified</td>\n    </tr>\n    <tr>\n      <th>6</th>\n      <td>2013-11-24</td>\n      <td>005</td>\n      <td>10.0</td>\n      <td>Pink</td>\n      <td>added</td>\n    </tr>\n    <tr>\n      <th>7</th>\n      <td>2013-11-24</td>\n      <td>005</td>\n      <td>10.0</td>\n      <td>Pink</td>\n      <td>added</td>\n    </tr>\n    <tr>\n      <th>8</th>\n      <td>2013-11-24</td>\n      <td>003</td>\n      <td>7.0</td>\n      <td>Red</td>\n      <td>removed</td>\n    </tr>\n    <tr>\n      <th>4</th>\n      <td>2013-11-25</td>\n      <td>002</td>\n      <td>6.0</td>\n      <td>Orange</td>\n      <td>modified</td>\n    </tr>\n  </tbody>\n</table>\n</div>",
      "text/plain": [
       "         date   id  quantity   color transaction\n",
       "0  2013-11-24  001      22.0  Yellow       added\n",
       "1  2013-11-24  002       8.0  Orange       added\n",
       "2  2013-11-24  003       7.0     Red       added\n",
       "3  2013-11-24  004      10.0  Yellow       added\n",
       "5  2013-11-24  004       5.0     Red    modified\n",
       "6  2013-11-24  005      10.0    Pink       added\n",
       "7  2013-11-24  005      10.0    Pink       added\n",
       "8  2013-11-24  003       7.0     Red     removed\n",
       "4  2013-11-25  002       6.0  Orange    modified"
      ]
     },
     "execution_count": null,
     "metadata": {},
     "output_type": "execute_result"
    }
   ],
   "source": [
    "df_log = log_delta(df_log=df_log, df_old=df_old, df_new=df_new, unique_id=\"id\", sort_by=[\"date\"])\n",
    "df_log"
   ]
  }
 ],
 "metadata": {
  "kernelspec": {
   "display_name": "Python 3",
   "language": "python",
   "name": "python3"
  }
 },
 "nbformat": 4,
 "nbformat_minor": 2
}
